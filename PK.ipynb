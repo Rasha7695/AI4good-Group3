{
  "nbformat": 4,
  "nbformat_minor": 0,
  "metadata": {
    "colab": {
      "name": "First.ipynb",
      "provenance": [],
      "authorship_tag": "ABX9TyOvnkSJKM4IaKJgAEK1q1uN",
      "include_colab_link": true
    },
    "kernelspec": {
      "name": "python3",
      "display_name": "Python 3"
    }
  },
  "cells": [
    {
      "cell_type": "markdown",
      "metadata": {
        "id": "view-in-github",
        "colab_type": "text"
      },
      "source": [
        "<a href=\"https://colab.research.google.com/github/Rasha7695/AI4good-Group3/blob/master/PK.ipynb\" target=\"_parent\"><img src=\"https://colab.research.google.com/assets/colab-badge.svg\" alt=\"Open In Colab\"/></a>"
      ]
    },
    {
      "cell_type": "code",
      "metadata": {
        "id": "RGys2WITgsTq",
        "colab_type": "code",
        "colab": {}
      },
      "source": [
        ""
      ],
      "execution_count": 0,
      "outputs": []
    },
    {
      "cell_type": "markdown",
      "metadata": {
        "id": "adg7Z2Qxg1x9",
        "colab_type": "text"
      },
      "source": [
        "As we increase the number of clusters, the validity increases\n"
      ]
    },
    {
      "cell_type": "code",
      "metadata": {
        "id": "DJ6TU2r08azk",
        "colab_type": "code",
        "colab": {
          "base_uri": "https://localhost:8080/",
          "height": 34
        },
        "outputId": "86d4ef74-bd2d-4073-9d71-1ffe82a8ccfd"
      },
      "source": [
        "import numpy as np\n",
        "from sklearn import datasets\n",
        "iris_X, iris_y = datasets.load_iris(return_X_y=True)\n",
        "np.unique(iris_y)\n"
      ],
      "execution_count": 2,
      "outputs": [
        {
          "output_type": "execute_result",
          "data": {
            "text/plain": [
              "array([0, 1, 2])"
            ]
          },
          "metadata": {
            "tags": []
          },
          "execution_count": 2
        }
      ]
    },
    {
      "cell_type": "code",
      "metadata": {
        "id": "YFnI-Q-18loE",
        "colab_type": "code",
        "colab": {}
      },
      "source": [
        ""
      ],
      "execution_count": 0,
      "outputs": []
    },
    {
      "cell_type": "markdown",
      "metadata": {
        "id": "_xWfFmRb8l97",
        "colab_type": "text"
      },
      "source": [
        ""
      ]
    }
  ]
}